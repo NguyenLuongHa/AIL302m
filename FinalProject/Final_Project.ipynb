{
 "cells": [
  {
   "cell_type": "markdown",
   "metadata": {},
   "source": [
    "# FINAL PROJECT"
   ]
  },
  {
   "cell_type": "markdown",
   "metadata": {},
   "source": [
    "## Library"
   ]
  },
  {
   "cell_type": "code",
   "execution_count": 583,
   "metadata": {},
   "outputs": [],
   "source": [
    "import pandas as pd\n",
    "import numpy as np\n",
    "import matplotlib.pyplot as plt\n",
    "import numpy as np\n",
    "import seaborn as sns\n",
    "from sklearn.model_selection import train_test_split\n",
    "from sklearn.metrics import f1_score\n",
    "from sklearn.cluster import KMeans\n",
    "import pickle\n",
    "from sklearn.utils import shuffle"
   ]
  },
  {
   "cell_type": "markdown",
   "metadata": {},
   "source": [
    "## Data preparing"
   ]
  },
  {
   "cell_type": "markdown",
   "metadata": {},
   "source": [
    "### Raw Data"
   ]
  },
  {
   "cell_type": "code",
   "execution_count": 584,
   "metadata": {},
   "outputs": [],
   "source": [
    "df = pd.read_excel('mean_data.xlsx', index_col=0)"
   ]
  },
  {
   "cell_type": "code",
   "execution_count": 585,
   "metadata": {},
   "outputs": [
    {
     "name": "stdout",
     "output_type": "stream",
     "text": [
      "        video id  Question 2: Sound (1-5)  Question 2.1: Music (1-5)  \\\n",
      "0    mSg4AmqvT0I                        4                          4   \n",
      "1    Lol8sqRfQYE                        3                          3   \n",
      "2    kwwGvRUyIG8                        4                          4   \n",
      "3    52alUCchcBw                        2                          2   \n",
      "4    iDCC0SEHDY8                        3                          3   \n",
      "..           ...                      ...                        ...   \n",
      "130  Yr9Z19ZWMfg                        4                          3   \n",
      "131  umhYUSmtkIw                        3                          3   \n",
      "132  7JsskyOhp0I                        4                          4   \n",
      "133  usrgPQ74WVA                        3                          3   \n",
      "134  eZCiJihCPUE                        5                          5   \n",
      "\n",
      "     Question 2.2 : Noise control (1-5)  Question 2.3 : Speaking Style (1-5)  \\\n",
      "0                                     3                                    4   \n",
      "1                                     1                                    3   \n",
      "2                                     2                                    3   \n",
      "3                                     1                                    3   \n",
      "4                                     2                                    3   \n",
      "..                                  ...                                  ...   \n",
      "130                                   3                                    4   \n",
      "131                                   3                                    3   \n",
      "132                                   2                                    4   \n",
      "133                                   3                                    3   \n",
      "134                                   4                                    5   \n",
      "\n",
      "     Question 3: Camera (1-5)  Question 3.1: Stable (1-5)  \\\n",
      "0                           4                           4   \n",
      "1                           3                           2   \n",
      "2                           4                           4   \n",
      "3                           3                           4   \n",
      "4                           3                           4   \n",
      "..                        ...                         ...   \n",
      "130                         4                           3   \n",
      "131                         3                           4   \n",
      "132                         4                           4   \n",
      "133                         3                           3   \n",
      "134                         5                           5   \n",
      "\n",
      "     Question 3.2: Angel diversity (0-1)  Question 4: Images (1-5)  \\\n",
      "0                                      1                         5   \n",
      "1                                      3                         3   \n",
      "2                                      1                         4   \n",
      "3                                      1                         2   \n",
      "4                                      0                         3   \n",
      "..                                   ...                       ...   \n",
      "130                                    1                         4   \n",
      "131                                    1                         3   \n",
      "132                                    1                         4   \n",
      "133                                    1                         4   \n",
      "134                                    1                         4   \n",
      "\n",
      "     Question 4.1: Resolution (1-5)  Question 4.2: Color (1-5)  \\\n",
      "0                                 4                          5   \n",
      "1                                 3                          3   \n",
      "2                                 5                          4   \n",
      "3                                 4                          1   \n",
      "4                                 4                          2   \n",
      "..                              ...                        ...   \n",
      "130                               4                          4   \n",
      "131                               4                          3   \n",
      "132                               4                          4   \n",
      "133                               4                          4   \n",
      "134                               4                          4   \n",
      "\n",
      "     Question 5: Content (1-5)  Question 5.1: Introduction (0-1)  \\\n",
      "0                            4                                 1   \n",
      "1                            3                                 1   \n",
      "2                            4                                 1   \n",
      "3                            3                                 1   \n",
      "4                            3                                 1   \n",
      "..                         ...                               ...   \n",
      "130                          4                                 1   \n",
      "131                          3                                 1   \n",
      "132                          4                                 1   \n",
      "133                          2                                 1   \n",
      "134                          5                                 1   \n",
      "\n",
      "     Question 5.2: Food description (0-1)  Question 6: Reviewer (1-5)  \\\n",
      "0                                       1                           3   \n",
      "1                                       1                           3   \n",
      "2                                       1                           4   \n",
      "3                                       0                           2   \n",
      "4                                       0                           3   \n",
      "..                                    ...                         ...   \n",
      "130                                     1                           4   \n",
      "131                                     1                           3   \n",
      "132                                     1                           4   \n",
      "133                                     1                           4   \n",
      "134                                     1                           5   \n",
      "\n",
      "     Question 6.1: Reviewer emotion is negative - neutral - positive (1-3)  \\\n",
      "0                                                    2                       \n",
      "1                                                    3                       \n",
      "2                                                    3                       \n",
      "3                                                    2                       \n",
      "4                                                    2                       \n",
      "..                                                 ...                       \n",
      "130                                                  3                       \n",
      "131                                                  2                       \n",
      "132                                                  3                       \n",
      "133                                                  2                       \n",
      "134                                                  3                       \n",
      "\n",
      "     Question 6.2: Recommendation (0-1)  \\\n",
      "0                                     0   \n",
      "1                                     1   \n",
      "2                                     1   \n",
      "3                                     0   \n",
      "4                                     0   \n",
      "..                                  ...   \n",
      "130                                   1   \n",
      "131                                   0   \n",
      "132                                   1   \n",
      "133                                   0   \n",
      "134                                   1   \n",
      "\n",
      "     Question 6.3: Clear information (0-1)  Attractive Level (1-5)  \n",
      "0                                        1                       3  \n",
      "1                                        1                       2  \n",
      "2                                        1                       4  \n",
      "3                                        1                       2  \n",
      "4                                        0                       2  \n",
      "..                                     ...                     ...  \n",
      "130                                      1                       4  \n",
      "131                                      1                       3  \n",
      "132                                      1                       4  \n",
      "133                                      1                       2  \n",
      "134                                      1                       4  \n",
      "\n",
      "[135 rows x 19 columns]\n"
     ]
    }
   ],
   "source": [
    "print(df)"
   ]
  },
  {
   "cell_type": "code",
   "execution_count": 586,
   "metadata": {},
   "outputs": [
    {
     "data": {
      "text/plain": [
       "Index(['video id', 'Question 2: Sound (1-5)', 'Question 2.1: Music (1-5)',\n",
       "       'Question 2.2 : Noise control (1-5)',\n",
       "       'Question 2.3 : Speaking Style (1-5)', 'Question 3: Camera (1-5)',\n",
       "       'Question 3.1: Stable (1-5)', 'Question 3.2: Angel diversity (0-1)',\n",
       "       'Question 4: Images (1-5)', 'Question 4.1: Resolution (1-5)',\n",
       "       'Question 4.2: Color (1-5)', 'Question 5: Content (1-5)',\n",
       "       'Question 5.1: Introduction (0-1)',\n",
       "       'Question 5.2: Food description (0-1)', 'Question 6: Reviewer (1-5)',\n",
       "       'Question 6.1: Reviewer emotion is negative - neutral - positive (1-3)',\n",
       "       'Question 6.2: Recommendation (0-1)',\n",
       "       'Question 6.3: Clear information (0-1)', 'Attractive Level (1-5)'],\n",
       "      dtype='object')"
      ]
     },
     "execution_count": 586,
     "metadata": {},
     "output_type": "execute_result"
    }
   ],
   "source": [
    "df.columns"
   ]
  },
  {
   "cell_type": "code",
   "execution_count": 587,
   "metadata": {},
   "outputs": [],
   "source": [
    "input_columns = [\n",
    "       'Question 2: Sound (1-5)', 'Question 2.1: Music (1-5)','Question 2.2 : Noise control (1-5)','Question 2.3 : Speaking Style (1-5)', \n",
    "       'Question 3: Camera (1-5)','Question 3.1: Stable (1-5)', 'Question 3.2: Angel diversity (0-1)',\n",
    "       'Question 4: Images (1-5)', 'Question 4.1: Resolution (1-5)', 'Question 4.2: Color (1-5)', \n",
    "       'Question 5: Content (1-5)', 'Question 5.1: Introduction (0-1)', 'Question 5.2: Food description (0-1)', 'Question 6: Reviewer (1-5)',\n",
    "       'Question 6.1: Reviewer emotion is negative - neutral - positive (1-3)', 'Question 6.2: Recommendation (0-1)', 'Question 6.3: Clear information (0-1)'\n",
    "       ]\n",
    "main_columns = [\n",
    "        'Question 2: Sound (1-5)',\n",
    "        'Question 3: Camera (1-5)',\n",
    "        'Question 4: Images (1-5)', \n",
    "        'Question 5: Content (1-5)',\n",
    "        'Question 6: Reviewer (1-5)'\n",
    "       ]\n",
    "output_column = 'Attractive Level (1-5)'\n",
    "Id_Alevel =[\n",
    "        'video id',\n",
    "        'Attractive Level (1-5)',]"
   ]
  },
  {
   "cell_type": "markdown",
   "metadata": {},
   "source": [
    "### Train_Test Data"
   ]
  },
  {
   "cell_type": "code",
   "execution_count": 588,
   "metadata": {},
   "outputs": [],
   "source": [
    "X_train, X_test, y_train, y_test = train_test_split(df[main_columns][:], df[output_column][:], test_size=0.2, shuffle=True)"
   ]
  },
  {
   "cell_type": "code",
   "execution_count": 589,
   "metadata": {},
   "outputs": [
    {
     "name": "stdout",
     "output_type": "stream",
     "text": [
      "(108, 5)\n",
      "(27, 5)\n"
     ]
    }
   ],
   "source": [
    "print(X_train.shape)\n",
    "print(X_test.shape)"
   ]
  },
  {
   "cell_type": "markdown",
   "metadata": {},
   "source": [
    "### Data oversampling"
   ]
  },
  {
   "cell_type": "code",
   "execution_count": 590,
   "metadata": {},
   "outputs": [
    {
     "data": {
      "image/png": "[encoded data removed]",
      "text/plain": [
       "<Figure size 640x480 with 1 Axes>"
      ]
     },
     "metadata": {},
     "output_type": "display_data"
    }
   ],
   "source": [
    "sns.histplot(data=df[output_column])\n",
    "plt.show()"
   ]
  },
  {
   "cell_type": "code",
   "execution_count": 606,
   "metadata": {},
   "outputs": [
    {
     "data": {
      "image/png": "[encoded data removed]",
      "text/plain": [
       "<Figure size 640x480 with 1 Axes>"
      ]
     },
     "metadata": {},
     "output_type": "display_data"
    }
   ],
   "source": [
    "from imblearn.over_sampling import SMOTE\n",
    "oversample = SMOTE(k_neighbors=2, random_state=0)\n",
    "X_os, y_os = oversample.fit_resample(df[input_columns][:], df[output_column][:])\n",
    "# X, y = pf[core_columns][:], pf[output_column][:]\n",
    "X_train, X_test, y_train, y_test = train_test_split(X_os, y_os, test_size=0.2, shuffle=True)\n",
    "sns.histplot(data=df[output_column])\n",
    "sns.histplot(data=y_os)\n",
    "plt.show()"
   ]
  },
  {
   "cell_type": "code",
   "execution_count": 592,
   "metadata": {},
   "outputs": [
    {
     "data": {
      "text/html": [
       "<div>\n",
       "<style scoped>\n",
       "    .dataframe tbody tr th:only-of-type {\n",
       "        vertical-align: middle;\n",
       "    }\n",
       "\n",
       "    .dataframe tbody tr th {\n",
       "        vertical-align: top;\n",
       "    }\n",
       "\n",
       "    .dataframe thead th {\n",
       "        text-align: right;\n",
       "    }\n",
       "</style>\n",
       "<table border=\"1\" class=\"dataframe\">\n",
       "  <thead>\n",
       "    <tr style=\"text-align: right;\">\n",
       "      <th></th>\n",
       "      <th>Question 2: Sound (1-5)</th>\n",
       "      <th>Question 3: Camera (1-5)</th>\n",
       "      <th>Question 4: Images (1-5)</th>\n",
       "      <th>Question 5: Content (1-5)</th>\n",
       "      <th>Question 6: Reviewer (1-5)</th>\n",
       "    </tr>\n",
       "  </thead>\n",
       "  <tbody>\n",
       "    <tr>\n",
       "      <th>16</th>\n",
       "      <td>5</td>\n",
       "      <td>5</td>\n",
       "      <td>5</td>\n",
       "      <td>5</td>\n",
       "      <td>5</td>\n",
       "    </tr>\n",
       "    <tr>\n",
       "      <th>36</th>\n",
       "      <td>3</td>\n",
       "      <td>3</td>\n",
       "      <td>3</td>\n",
       "      <td>2</td>\n",
       "      <td>2</td>\n",
       "    </tr>\n",
       "    <tr>\n",
       "      <th>78</th>\n",
       "      <td>3</td>\n",
       "      <td>5</td>\n",
       "      <td>3</td>\n",
       "      <td>2</td>\n",
       "      <td>2</td>\n",
       "    </tr>\n",
       "    <tr>\n",
       "      <th>108</th>\n",
       "      <td>4</td>\n",
       "      <td>5</td>\n",
       "      <td>5</td>\n",
       "      <td>4</td>\n",
       "      <td>3</td>\n",
       "    </tr>\n",
       "    <tr>\n",
       "      <th>56</th>\n",
       "      <td>3</td>\n",
       "      <td>2</td>\n",
       "      <td>3</td>\n",
       "      <td>2</td>\n",
       "      <td>2</td>\n",
       "    </tr>\n",
       "    <tr>\n",
       "      <th>...</th>\n",
       "      <td>...</td>\n",
       "      <td>...</td>\n",
       "      <td>...</td>\n",
       "      <td>...</td>\n",
       "      <td>...</td>\n",
       "    </tr>\n",
       "    <tr>\n",
       "      <th>120</th>\n",
       "      <td>4</td>\n",
       "      <td>4</td>\n",
       "      <td>4</td>\n",
       "      <td>4</td>\n",
       "      <td>4</td>\n",
       "    </tr>\n",
       "    <tr>\n",
       "      <th>25</th>\n",
       "      <td>4</td>\n",
       "      <td>4</td>\n",
       "      <td>4</td>\n",
       "      <td>3</td>\n",
       "      <td>4</td>\n",
       "    </tr>\n",
       "    <tr>\n",
       "      <th>37</th>\n",
       "      <td>3</td>\n",
       "      <td>2</td>\n",
       "      <td>3</td>\n",
       "      <td>2</td>\n",
       "      <td>2</td>\n",
       "    </tr>\n",
       "    <tr>\n",
       "      <th>106</th>\n",
       "      <td>2</td>\n",
       "      <td>2</td>\n",
       "      <td>3</td>\n",
       "      <td>1</td>\n",
       "      <td>2</td>\n",
       "    </tr>\n",
       "    <tr>\n",
       "      <th>115</th>\n",
       "      <td>3</td>\n",
       "      <td>5</td>\n",
       "      <td>5</td>\n",
       "      <td>4</td>\n",
       "      <td>4</td>\n",
       "    </tr>\n",
       "  </tbody>\n",
       "</table>\n",
       "<p>135 rows × 5 columns</p>\n",
       "</div>"
      ],
      "text/plain": [
       "     Question 2: Sound (1-5)  Question 3: Camera (1-5)  \\\n",
       "16                         5                         5   \n",
       "36                         3                         3   \n",
       "78                         3                         5   \n",
       "108                        4                         5   \n",
       "56                         3                         2   \n",
       "..                       ...                       ...   \n",
       "120                        4                         4   \n",
       "25                         4                         4   \n",
       "37                         3                         2   \n",
       "106                        2                         2   \n",
       "115                        3                         5   \n",
       "\n",
       "     Question 4: Images (1-5)  Question 5: Content (1-5)  \\\n",
       "16                          5                          5   \n",
       "36                          3                          2   \n",
       "78                          3                          2   \n",
       "108                         5                          4   \n",
       "56                          3                          2   \n",
       "..                        ...                        ...   \n",
       "120                         4                          4   \n",
       "25                          4                          3   \n",
       "37                          3                          2   \n",
       "106                         3                          1   \n",
       "115                         5                          4   \n",
       "\n",
       "     Question 6: Reviewer (1-5)  \n",
       "16                            5  \n",
       "36                            2  \n",
       "78                            2  \n",
       "108                           3  \n",
       "56                            2  \n",
       "..                          ...  \n",
       "120                           4  \n",
       "25                            4  \n",
       "37                            2  \n",
       "106                           2  \n",
       "115                           4  \n",
       "\n",
       "[135 rows x 5 columns]"
      ]
     },
     "execution_count": 592,
     "metadata": {},
     "output_type": "execute_result"
    }
   ],
   "source": [
    "X = df[main_columns][:]\n",
    "shuffle(X)"
   ]
  },
  {
   "cell_type": "code",
   "execution_count": 593,
   "metadata": {},
   "outputs": [],
   "source": [
    "#from imblearn.over_sampling import RandomOverSampler\n",
    "#X_train, y_train =RandomOverSampler(random_state=42).fit_resample(X_train, y_train)\n",
    "#sns.histplot(data=y_train)\n",
    "#plt.show()"
   ]
  },
  {
   "cell_type": "markdown",
   "metadata": {},
   "source": [
    "## Modeling"
   ]
  },
  {
   "cell_type": "markdown",
   "metadata": {},
   "source": [
    "### Linear Regression"
   ]
  },
  {
   "cell_type": "code",
   "execution_count": 594,
   "metadata": {},
   "outputs": [
    {
     "name": "stdout",
     "output_type": "stream",
     "text": [
      "Linear Regression:\n"
     ]
    },
    {
     "data": {
      "image/png": "[encoded data removed]",
      "text/plain": [
       "<Figure size 640x480 with 1 Axes>"
      ]
     },
     "metadata": {},
     "output_type": "display_data"
    },
    {
     "name": "stdout",
     "output_type": "stream",
     "text": [
      "train accuracy:  0.8202950840095816\n",
      "test accuracy:  0.7961377752682101\n",
      "MSE train:  0.15527006462936513\n",
      "RMSE train:  0.3940432268538125\n",
      "MSE test:  0.19456704494564842\n",
      "RMSE test:  0.4410975458395211\n"
     ]
    }
   ],
   "source": [
    "from sklearn.linear_model import LinearRegression\n",
    "from sklearn.metrics import mean_squared_error\n",
    "import math\n",
    "clf = LinearRegression()\n",
    "clf.fit(X_train, y_train)\n",
    "pickle.dump(clf, open('./Linear_Regression_model', 'wb'))\n",
    "\n",
    "print('Linear Regression:')\n",
    "\n",
    "train_result = clf.predict(X_train)\n",
    "plt.plot(train_result.round(), y_train.round(), 'ro')\n",
    "plt.plot([0,6],[0,6], 'b-')\n",
    "plt.show()\n",
    "print('train accuracy: ', f1_score(train_result.round(), y_train, average='macro'))\n",
    "test_result = clf.predict(X_test)\n",
    "print('test accuracy: ', f1_score(test_result.round(), y_test, average='macro'))\n",
    "\n",
    "\n",
    "MSE = mean_squared_error(train_result, y_train)\n",
    "RMSE = math.sqrt(MSE)\n",
    "print(\"MSE train: \", MSE)\n",
    "print(\"RMSE train: \", RMSE)\n",
    "\n",
    "\n",
    "\n",
    "MSE = mean_squared_error(test_result, y_test)\n",
    "RMSE = math.sqrt(MSE)\n",
    "print(\"MSE test: \", MSE)\n",
    "print(\"RMSE test: \", RMSE)\n"
   ]
  },
  {
   "cell_type": "code",
   "execution_count": 595,
   "metadata": {},
   "outputs": [
    {
     "name": "stdout",
     "output_type": "stream",
     "text": [
      "[ 0.30941395  0.02128652  0.01398795  0.05229096  0.16145588  0.19111042\n",
      " -0.06494877  0.01670565  0.09589611 -0.0229821   0.06316656 -0.04071431\n",
      " -0.03952931  0.19997748  0.41824238  0.15849373  0.3412481 ]\n"
     ]
    }
   ],
   "source": [
    "print(clf.coef_)\n"
   ]
  },
  {
   "cell_type": "markdown",
   "metadata": {},
   "source": [
    "### Logistic Regression"
   ]
  },
  {
   "cell_type": "code",
   "execution_count": 596,
   "metadata": {},
   "outputs": [
    {
     "name": "stdout",
     "output_type": "stream",
     "text": [
      "Logistic Regression:\n",
      "train accuracy:  0.932580265830453\n",
      "test accuracy:  0.9528508771929824\n"
     ]
    }
   ],
   "source": [
    "from sklearn.linear_model import LogisticRegression\n",
    "\n",
    "clf = LogisticRegression(C=1, solver=\"lbfgs\", max_iter=1e4)\n",
    "y1 = y_train.copy()\n",
    "y1[y1 < 3] = 0\n",
    "y1[y1 >= 3] = 1\n",
    "y2 = y_test.copy()\n",
    "y2[y2 < 3] = 0\n",
    "y2[y2 >= 3] = 1\n",
    "clf.fit(X_train, y1)\n",
    "pickle.dump(clf, open('./Logistic_Regression_model', 'wb'))\n",
    "\n",
    "print('Logistic Regression:')\n",
    "print('train accuracy: ',f1_score(clf.predict(X_train), y1, average='macro'))\n",
    "print('test accuracy: ',f1_score(clf.predict(X_test), y2, average='macro'))"
   ]
  },
  {
   "cell_type": "code",
   "execution_count": 597,
   "metadata": {},
   "outputs": [
    {
     "name": "stdout",
     "output_type": "stream",
     "text": [
      "[[ 0.68844707  0.02932722  0.05584783  0.05956115  0.70512633  1.05843888\n",
      "  -0.03202144 -0.33688494  1.07012393  0.86972185  1.09776325 -0.05740914\n",
      "   0.51639146  0.22449235  0.99037447 -0.01853142  0.60316618]]\n"
     ]
    }
   ],
   "source": [
    "print(clf.coef_)\n"
   ]
  },
  {
   "cell_type": "markdown",
   "metadata": {},
   "source": [
    "### Classification"
   ]
  },
  {
   "cell_type": "code",
   "execution_count": 598,
   "metadata": {},
   "outputs": [
    {
     "name": "stdout",
     "output_type": "stream",
     "text": [
      "Multilayer Perceptron:\n",
      "train accuracy:  0.8479370854370855\n",
      "test accuracy:  0.7435714285714285\n"
     ]
    },
    {
     "name": "stderr",
     "output_type": "stream",
     "text": [
      "c:\\Python\\Python310\\lib\\site-packages\\sklearn\\neural_network\\_multilayer_perceptron.py:702: ConvergenceWarning: Stochastic Optimizer: Maximum iterations (300) reached and the optimization hasn't converged yet.\n",
      "  warnings.warn(\n"
     ]
    }
   ],
   "source": [
    "from sklearn.neural_network import MLPClassifier\n",
    "clf = MLPClassifier(random_state=1, max_iter=300, hidden_layer_sizes=(20, 20, 20))\n",
    "clf.fit(X_train, y_train)\n",
    "pickle.dump(clf, open('./MLP_model', 'wb'))\n",
    "\n",
    "print('Multilayer Perceptron:')\n",
    "print('train accuracy: ',f1_score(clf.predict(X_train), y_train, average='macro'))\n",
    "print('test accuracy: ',f1_score(clf.predict(X_test), y_test, average='macro'))"
   ]
  },
  {
   "cell_type": "code",
   "execution_count": 599,
   "metadata": {},
   "outputs": [
    {
     "name": "stdout",
     "output_type": "stream",
     "text": [
      "[1 2 3 4 5]\n"
     ]
    }
   ],
   "source": [
    "print(clf.classes_)"
   ]
  },
  {
   "cell_type": "markdown",
   "metadata": {},
   "source": [
    "### K_means Clustering"
   ]
  },
  {
   "cell_type": "code",
   "execution_count": 600,
   "metadata": {},
   "outputs": [],
   "source": [
    "from scipy.spatial.distance import cdist\n",
    "distortions = []\n",
    "inertias = []\n",
    "mapping1 = {}\n",
    "mapping2 = {}\n",
    "for k in range(1,10):\n",
    "    kmeanModel = KMeans(n_clusters=k).fit(X)\n",
    "    kmeanModel.fit(X)\n",
    "    distortions.append(sum(np.min(cdist(X, kmeanModel.cluster_centers_,\n",
    "                                        'euclidean'), axis=1)) / X.shape[0])\n",
    "    inertias.append(kmeanModel.inertia_)\n",
    "  \n",
    "    mapping1[k] = sum(np.min(cdist(X, kmeanModel.cluster_centers_,\n",
    "                                   'euclidean'), axis=1)) / X.shape[0]\n",
    "    mapping2[k] = kmeanModel.inertia_"
   ]
  },
  {
   "cell_type": "code",
   "execution_count": 601,
   "metadata": {},
   "outputs": [
    {
     "name": "stdout",
     "output_type": "stream",
     "text": [
      "1 : 1.9400361072984398\n",
      "2 : 1.3980195977087193\n",
      "3 : 1.2552163860704673\n",
      "4 : 1.1362510052583712\n",
      "5 : 1.0872669110998623\n",
      "6 : 1.0525646079801907\n",
      "7 : 0.9862848699860028\n",
      "8 : 0.9648439630001382\n",
      "9 : 0.9266895450515095\n"
     ]
    }
   ],
   "source": [
    "for key, val in mapping1.items():\n",
    "    print(f'{key} : {val}')"
   ]
  },
  {
   "cell_type": "code",
   "execution_count": 602,
   "metadata": {},
   "outputs": [
    {
     "data": {
      "image/png": "[encoded data removed]",
      "text/plain": [
       "<Figure size 640x480 with 1 Axes>"
      ]
     },
     "metadata": {},
     "output_type": "display_data"
    }
   ],
   "source": [
    "plt.plot(range(1,10), distortions, 'bx-')\n",
    "plt.xlabel('Values of K')\n",
    "plt.ylabel('Distortion')\n",
    "plt.title('The Elbow Method using Distortion')\n",
    "plt.show()"
   ]
  },
  {
   "cell_type": "code",
   "execution_count": 603,
   "metadata": {},
   "outputs": [
    {
     "data": {
      "text/plain": [
       "array([1, 0, 1, 2, 0, 0, 0, 0, 0, 2, 1, 2, 1, 2, 0, 2, 1, 1, 1, 1, 0, 0,\n",
       "       1, 0, 2, 1, 1, 0, 0, 0, 1, 0, 0, 2, 1, 1, 2, 2, 2, 1, 0, 1, 0, 0,\n",
       "       0, 2, 2, 0, 1, 2, 0, 0, 2, 0, 0, 1, 2, 0, 0, 2, 1, 0, 1, 0, 1, 0,\n",
       "       0, 1, 1, 0, 0, 2, 0, 0, 1, 1, 0, 1, 2, 1, 2, 0, 1, 2, 0, 1, 1, 1,\n",
       "       1, 0, 2, 0, 2, 2, 0, 1, 2, 2, 0, 0, 1, 2, 0, 2, 2, 2, 2, 0, 1, 1,\n",
       "       2, 2, 0, 0, 1, 1, 0, 0, 0, 1, 1, 2, 1, 1, 0, 0, 1, 2, 0, 2, 1, 0,\n",
       "       1, 0, 1])"
      ]
     },
     "execution_count": 603,
     "metadata": {},
     "output_type": "execute_result"
    }
   ],
   "source": [
    "clf = KMeans(n_clusters=3)\n",
    "Y_Kmeans = clf.fit_predict(X)\n",
    "pickle.dump(clf, open('./K_means_model', 'wb'))\n",
    "\n",
    "Y_Kmeans\n",
    "#print('train accuracy: ',f1_score(train, y_train, average='micro'))\n",
    "#print('test accuracy: ',f1_score(clf.predict(X_test), y_test, average='micro'))"
   ]
  },
  {
   "cell_type": "code",
   "execution_count": 604,
   "metadata": {},
   "outputs": [
    {
     "name": "stdout",
     "output_type": "stream",
     "text": [
      "Center  1\n",
      "Size:  54\n",
      "        video id  Attractive Level (1-5)\n",
      "124  B1zTL3RLlkg                       2\n",
      "125  0vMXuiMGYkY                       3\n",
      "128  _m3h0tI464Y                       4\n",
      "131  umhYUSmtkIw                       3\n",
      "133  usrgPQ74WVA                       2\n",
      "-------------------------------------------------\n",
      "Center  2\n",
      "Size:  46\n",
      "        video id  Attractive Level (1-5)\n",
      "123  PkZt3ljyn4M                       5\n",
      "126  TeE0xUNdtK4                       4\n",
      "130  Yr9Z19ZWMfg                       4\n",
      "132  7JsskyOhp0I                       4\n",
      "134  eZCiJihCPUE                       4\n",
      "-------------------------------------------------\n",
      "Center  3\n",
      "Size:  35\n",
      "        video id  Attractive Level (1-5)\n",
      "110  rU5DYb2sZPw                       2\n",
      "111  bUg5DRoFhPk                       2\n",
      "121  QZ_PhvS3FGY                       2\n",
      "127  h9qgh9CZYho                       2\n",
      "129  atHAabNpQEI                       1\n",
      "-------------------------------------------------\n"
     ]
    }
   ],
   "source": [
    "for i in range(0,3):\n",
    "    print(\"Center \",i+1)\n",
    "    print(\"Size: \",len(df['video id'][Y_Kmeans==i]))\n",
    "    print(df[Id_Alevel][Y_Kmeans==i].tail(5))\n",
    "    print(\"-------------------------------------------------\")\n"
   ]
  },
  {
   "cell_type": "code",
   "execution_count": 605,
   "metadata": {},
   "outputs": [
    {
     "name": "stdout",
     "output_type": "stream",
     "text": [
      "Center  1\n",
      "Size:  54\n",
      "        video id  Attractive Level (1-5)\n",
      "1    Lol8sqRfQYE                       2\n",
      "4    iDCC0SEHDY8                       2\n",
      "5    QXGyszq4pic                       3\n",
      "6    w8f4mRCLrdU                       4\n",
      "7    r1BzB2-Cx7k                       3\n",
      "8    mfXlFpnduoA                       4\n",
      "14   RhJ7Cp7_ojU                       4\n",
      "20   DceuZyI6rHk                       3\n",
      "21   8-2XcUzHtIo                       3\n",
      "23   JG_LLt3QYbs                       3\n",
      "27   G9uP3B8nDzY                       3\n",
      "28   nruK2pDiAEA                       3\n",
      "29   EFbxgnqqblE                       3\n",
      "31   U3OwOM-4DaU                       2\n",
      "32   eZyK0ED21vI                       2\n",
      "40   TCTpiQLZxrI                       3\n",
      "42   z5j8rKWPCcU                       3\n",
      "43   Zvk06Y6E7Rk                       3\n",
      "44   IESQ3POtkx0                       3\n",
      "47   gCVnzXm09Jo                       3\n",
      "50   NgX99Cljm0c                       4\n",
      "51   jIn-9E0jVpY                       3\n",
      "53   zcJuiziyy-E                       2\n",
      "54   mSJLTdftJsc                       3\n",
      "57   th-efp8Kb_w                       3\n",
      "58   H4F0wPu0Bzg                       4\n",
      "61   SA-Nq84Cmok                       4\n",
      "63   AWHg_V27908                       3\n",
      "65   lGnQ4K3TuEs                       3\n",
      "66   HEYLbIedh9s                       2\n",
      "69   _L6uA_kKldc                       3\n",
      "70   idHgmPyriD4                       2\n",
      "72   loZWCltQCuk                       3\n",
      "73   tViXaXuwqFc                       3\n",
      "76   GP2qD48z4HA                       3\n",
      "81   cTOaJzEgXmg                       3\n",
      "84   BE_hHopKqQ8                       4\n",
      "89   JRLuq0-ctgA                       3\n",
      "91   jNCY7F5Kj9E                       4\n",
      "94   ImXVg79fy94                       4\n",
      "98   Jc6jWEppIUM                       3\n",
      "99   0vg04VHd3Io                       4\n",
      "102  cb2fMCggbSw                       3\n",
      "107  uudvWQf81DY                       2\n",
      "112  mSDRsSLbN0I                       3\n",
      "113  ny9kMIDMre4                       4\n",
      "116  bPkoL622W1U                       2\n",
      "117  4qDlaWstdwo                       4\n",
      "118  o1ajIArgiBw                       4\n",
      "124  B1zTL3RLlkg                       2\n",
      "125  0vMXuiMGYkY                       3\n",
      "128  _m3h0tI464Y                       4\n",
      "131  umhYUSmtkIw                       3\n",
      "133  usrgPQ74WVA                       2\n",
      "-------------------------------------------------\n",
      "Center  2\n",
      "Size:  46\n",
      "        video id  Attractive Level (1-5)\n",
      "0    mSg4AmqvT0I                       3\n",
      "2    kwwGvRUyIG8                       4\n",
      "10   TFGgOwCBP3g                       4\n",
      "12   Y6TRwhPSYz4                       4\n",
      "16   l5H6jl_g2XE                       5\n",
      "17   1iSLzc0hF6g                       4\n",
      "18   pxBL4T2Qpzw                       4\n",
      "19   YrMdSvixbGk                       4\n",
      "22   iljkdsw4JfA                       5\n",
      "25   fU6UZtcvlYM                       3\n",
      "26   GL3mfWvsF24                       5\n",
      "30   PUnKvRTvAjc                       4\n",
      "34   6x9TT-C2Ygs                       4\n",
      "35   TvnavJ5QJC4                       4\n",
      "39   RJyyho7bfkg                       5\n",
      "41   2mYcsM05lDk                       5\n",
      "48   je9PmQhyHDk                       4\n",
      "55   uK2-dN0UqLY                       4\n",
      "60   j-USg2l-Akc                       5\n",
      "62   YVU73shWxH0                       5\n",
      "64   pCh4iq0kj3g                       4\n",
      "67   Ay8xR5JwgTE                       4\n",
      "68   eFiSFxOM75Q                       4\n",
      "74   9vqIcs-fPug                       4\n",
      "75   g2XL4Km5HXY                       5\n",
      "77   ptsGxdRilpw                       4\n",
      "79   AknMdiMU_L0                       4\n",
      "82   QXR-hOL5fFs                       4\n",
      "85   IyguP0MEMso                       5\n",
      "86   x1j8wB0P2g8                       5\n",
      "87   5OzrpNCyXqs                       5\n",
      "88   Aww_IL-0-C8                       4\n",
      "95   zHq4pNRskxw                       4\n",
      "100  3gJ_14U5mdY                       4\n",
      "108  iGgDCb7ZVdA                       4\n",
      "109  5uxWtdd5-8s                       5\n",
      "114  ji_EJop6Gts                       4\n",
      "115  eLAnrkkkLTw                       4\n",
      "119  E100ip3q47E                       5\n",
      "120  Pc2Ue24ks_4                       4\n",
      "122  mMKOW0Eoyxo                       5\n",
      "123  PkZt3ljyn4M                       5\n",
      "126  TeE0xUNdtK4                       4\n",
      "130  Yr9Z19ZWMfg                       4\n",
      "132  7JsskyOhp0I                       4\n",
      "134  eZCiJihCPUE                       4\n",
      "-------------------------------------------------\n",
      "Center  3\n",
      "Size:  35\n",
      "        video id  Attractive Level (1-5)\n",
      "3    52alUCchcBw                       2\n",
      "9    ncoqtS2FYW8                       2\n",
      "11   rSTBg8w7F8I                       3\n",
      "13   FqZqiSKpQVo                       3\n",
      "15   8yBn-c8__Tk                       2\n",
      "24   3qfTtx3yG5U                       3\n",
      "33   A-3OFecUdqs                       3\n",
      "36   Ar53XryS4OQ                       2\n",
      "37   dEuQ2SqmxqA                       2\n",
      "38   ygmhxCyUfBk                       2\n",
      "45   TfP3TSml0E4                       2\n",
      "46   tQ-sZLeix8w                       2\n",
      "49   T4lSN47hwA4                       1\n",
      "52   PLvjuNKms0M                       2\n",
      "56   OkbgEHmbmkA                       2\n",
      "59   UZShbCi9psE                       2\n",
      "71   VMBUOvVem90                       3\n",
      "78   hyxBv3WGoF4                       3\n",
      "80   W834Y_mS97k                       3\n",
      "83   PCMomiiobXw                       2\n",
      "90   z_KIAz00kuQ                       1\n",
      "92   8F9MM-WioTY                       3\n",
      "93   0BVPs22v2kg                       3\n",
      "96   cRJmiDK_asM                       3\n",
      "97   XSJzxDgAZok                       3\n",
      "101  otns7IbEAaY                       3\n",
      "103  mymdIxBuyPw                       2\n",
      "104  nUNoO7kbxrI                       2\n",
      "105  h9RvI35wjXk                       1\n",
      "106  MGBeh10L_Ck                       2\n",
      "110  rU5DYb2sZPw                       2\n",
      "111  bUg5DRoFhPk                       2\n",
      "121  QZ_PhvS3FGY                       2\n",
      "127  h9qgh9CZYho                       2\n",
      "129  atHAabNpQEI                       1\n",
      "-------------------------------------------------\n"
     ]
    }
   ],
   "source": [
    "for i in range(0,3):\n",
    "    print(\"Center \",i+1)\n",
    "    print(\"Size: \",len(df['video id'][Y_Kmeans==i]))\n",
    "    print(df[Id_Alevel][Y_Kmeans==i])\n",
    "    print(\"-------------------------------------------------\")\n"
   ]
  }
 ],
 "metadata": {
  "kernelspec": {
   "display_name": "Python 3.10.4 64-bit",
   "language": "python",
   "name": "python3"
  },
  "language_info": {
   "codemirror_mode": {
    "name": "ipython",
    "version": 3
   },
   "file_extension": ".py",
   "mimetype": "text/x-python",
   "name": "python",
   "nbconvert_exporter": "python",
   "pygments_lexer": "ipython3",
   "version": "3.10.4"
  },
  "orig_nbformat": 4,
  "vscode": {
   "interpreter": {
    "hash": "d3e10ef16274dd72e574b8fa73b58450b957d8421a2901baded3cca26fcf5dda"
   }
  }
 },
 "nbformat": 4,
 "nbformat_minor": 2
}
